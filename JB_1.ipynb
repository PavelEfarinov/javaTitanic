{
  "nbformat": 4,
  "nbformat_minor": 0,
  "metadata": {
    "colab": {
      "name": "JB_1",
      "provenance": [],
      "collapsed_sections": []
    },
    "kernelspec": {
      "name": "python3",
      "display_name": "Python 3"
    }
  },
  "cells": [
    {
      "cell_type": "code",
      "metadata": {
        "colab_type": "code",
        "id": "XjDXCsdiLV6f",
        "colab": {}
      },
      "source": [
        "# TensorFlow and tf.keras\n",
        "import tensorflow as tf\n",
        "from tensorflow import keras\n",
        "from sklearn.model_selection import train_test_split\n",
        "\n",
        "# Helper libraries\n",
        "import numpy as np\n",
        "import matplotlib.pyplot as plt\n",
        "import pandas as pd"
      ],
      "execution_count": 0,
      "outputs": []
    },
    {
      "cell_type": "code",
      "metadata": {
        "id": "NGWSF1EDs7-h",
        "colab_type": "code",
        "colab": {
          "base_uri": "https://localhost:8080/",
          "height": 53
        },
        "outputId": "d81aba4e-25f7-4d7c-da06-4e1c3f4f3db3"
      },
      "source": [
        "!javac -cp opencsv-5.1.jar *.java"
      ],
      "execution_count": 7,
      "outputs": [
        {
          "output_type": "stream",
          "text": [
            "Note: DataPreprocessor.java uses unchecked or unsafe operations.\n",
            "Note: Recompile with -Xlint:unchecked for details.\n"
          ],
          "name": "stdout"
        }
      ]
    },
    {
      "cell_type": "code",
      "metadata": {
        "id": "J025k_iiuukh",
        "colab_type": "code",
        "colab": {}
      },
      "source": [
        "!java -cp ./drive/'My Drive'/apache/* DataPreprocessor train.csv train_modified.csv"
      ],
      "execution_count": 0,
      "outputs": []
    },
    {
      "cell_type": "code",
      "metadata": {
        "id": "h65xH2WPfrKq",
        "colab_type": "code",
        "colab": {}
      },
      "source": [
        "all_data = pd.read_csv('train_modified.csv')"
      ],
      "execution_count": 0,
      "outputs": []
    },
    {
      "cell_type": "code",
      "metadata": {
        "id": "5yZwojsD2zBE",
        "colab_type": "code",
        "colab": {
          "base_uri": "https://localhost:8080/",
          "height": 35
        },
        "outputId": "e10e06a4-adb9-4e01-cdcf-e3bac8ea5d35"
      },
      "source": [
        "target = \"SURVIVED\"\n",
        "features = all_data.columns.drop([target, \"PASSENGERID\"])\n",
        "features"
      ],
      "execution_count": 48,
      "outputs": [
        {
          "output_type": "execute_result",
          "data": {
            "text/plain": [
              "Index(['AGE', 'FAMILYSIZE', 'FARE', 'PCLASS', 'SEX'], dtype='object')"
            ]
          },
          "metadata": {
            "tags": []
          },
          "execution_count": 48
        }
      ]
    },
    {
      "cell_type": "code",
      "metadata": {
        "id": "WB7K8RHilvq7",
        "colab_type": "code",
        "outputId": "3f4b730f-d656-404c-fb28-b748d7079c82",
        "colab": {
          "base_uri": "https://localhost:8080/",
          "height": 206
        }
      },
      "source": [
        "train, test = train_test_split(all_data, test_size=0.01)\n",
        "X_train = train[features]\n",
        "y_train = train[target]\n",
        "X_test = test[features]\n",
        "y_test = test[target]\n",
        "X_train.head()"
      ],
      "execution_count": 50,
      "outputs": [
        {
          "output_type": "execute_result",
          "data": {
            "text/html": [
              "<div>\n",
              "<style scoped>\n",
              "    .dataframe tbody tr th:only-of-type {\n",
              "        vertical-align: middle;\n",
              "    }\n",
              "\n",
              "    .dataframe tbody tr th {\n",
              "        vertical-align: top;\n",
              "    }\n",
              "\n",
              "    .dataframe thead th {\n",
              "        text-align: right;\n",
              "    }\n",
              "</style>\n",
              "<table border=\"1\" class=\"dataframe\">\n",
              "  <thead>\n",
              "    <tr style=\"text-align: right;\">\n",
              "      <th></th>\n",
              "      <th>AGE</th>\n",
              "      <th>FAMILYSIZE</th>\n",
              "      <th>FARE</th>\n",
              "      <th>PCLASS</th>\n",
              "      <th>SEX</th>\n",
              "    </tr>\n",
              "  </thead>\n",
              "  <tbody>\n",
              "    <tr>\n",
              "      <th>787</th>\n",
              "      <td>45.0</td>\n",
              "      <td>1.0</td>\n",
              "      <td>26.5500</td>\n",
              "      <td>1.0</td>\n",
              "      <td>1.0</td>\n",
              "    </tr>\n",
              "    <tr>\n",
              "      <th>45</th>\n",
              "      <td>24.0</td>\n",
              "      <td>5.0</td>\n",
              "      <td>25.4667</td>\n",
              "      <td>3.0</td>\n",
              "      <td>-1.0</td>\n",
              "    </tr>\n",
              "    <tr>\n",
              "      <th>649</th>\n",
              "      <td>34.0</td>\n",
              "      <td>1.0</td>\n",
              "      <td>10.5000</td>\n",
              "      <td>2.0</td>\n",
              "      <td>-1.0</td>\n",
              "    </tr>\n",
              "    <tr>\n",
              "      <th>88</th>\n",
              "      <td>24.0</td>\n",
              "      <td>2.0</td>\n",
              "      <td>16.1000</td>\n",
              "      <td>3.0</td>\n",
              "      <td>-1.0</td>\n",
              "    </tr>\n",
              "    <tr>\n",
              "      <th>229</th>\n",
              "      <td>8.0</td>\n",
              "      <td>3.0</td>\n",
              "      <td>36.7500</td>\n",
              "      <td>2.0</td>\n",
              "      <td>1.0</td>\n",
              "    </tr>\n",
              "  </tbody>\n",
              "</table>\n",
              "</div>"
            ],
            "text/plain": [
              "      AGE  FAMILYSIZE     FARE  PCLASS  SEX\n",
              "787  45.0         1.0  26.5500     1.0  1.0\n",
              "45   24.0         5.0  25.4667     3.0 -1.0\n",
              "649  34.0         1.0  10.5000     2.0 -1.0\n",
              "88   24.0         2.0  16.1000     3.0 -1.0\n",
              "229   8.0         3.0  36.7500     2.0  1.0"
            ]
          },
          "metadata": {
            "tags": []
          },
          "execution_count": 50
        }
      ]
    },
    {
      "cell_type": "code",
      "metadata": {
        "id": "v9webNoVq3HP",
        "colab_type": "code",
        "colab": {}
      },
      "source": [
        "# some simple model\n",
        "model = keras.models.Sequential()\n",
        "model.add(keras.layers.Dense(64, activation='relu', input_shape=(features.size,)))\n",
        "model.add(keras.layers.Dense(128, activation='relu'))\n",
        "model.add(keras.layers.Dense(64, activation='relu'))\n",
        "model.add(keras.layers.Dense(1, activation='sigmoid'))"
      ],
      "execution_count": 0,
      "outputs": []
    },
    {
      "cell_type": "code",
      "metadata": {
        "id": "Ihzfwo_3spSG",
        "colab_type": "code",
        "colab": {}
      },
      "source": [
        "model.compile(optimizer='rmsprop',\n",
        "              loss='binary_crossentropy',\n",
        "              metrics=['accuracy'])"
      ],
      "execution_count": 0,
      "outputs": []
    },
    {
      "cell_type": "code",
      "metadata": {
        "id": "5XdWzm77yuOo",
        "colab_type": "code",
        "colab": {}
      },
      "source": [
        "# making pandas Dataframes work properly with keras models\n",
        "X_train = np.asarray(X_train).astype(np.float32)\n",
        "y_train = np.asarray(y_train).astype(np.float32)\n",
        "X_test = np.asarray(X_test).astype(np.float32)\n",
        "y_test = np.asarray(y_test).astype(np.float32)"
      ],
      "execution_count": 0,
      "outputs": []
    },
    {
      "cell_type": "code",
      "metadata": {
        "id": "42RoabZqsvZo",
        "colab_type": "code",
        "outputId": "a7f53a40-f945-4a6e-c2ef-29369947c726",
        "colab": {
          "base_uri": "https://localhost:8080/",
          "height": 762
        }
      },
      "source": [
        "model.fit(X_train,tf.stack(y_train), epochs=20)"
      ],
      "execution_count": 59,
      "outputs": [
        {
          "output_type": "stream",
          "text": [
            "Epoch 1/20\n",
            "28/28 [==============================] - 0s 1ms/step - loss: 0.4382 - accuracy: 0.8141\n",
            "Epoch 2/20\n",
            "28/28 [==============================] - 0s 1ms/step - loss: 0.4394 - accuracy: 0.8016\n",
            "Epoch 3/20\n",
            "28/28 [==============================] - 0s 1ms/step - loss: 0.4396 - accuracy: 0.8061\n",
            "Epoch 4/20\n",
            "28/28 [==============================] - 0s 1ms/step - loss: 0.4309 - accuracy: 0.8061\n",
            "Epoch 5/20\n",
            "28/28 [==============================] - 0s 1ms/step - loss: 0.4367 - accuracy: 0.8027\n",
            "Epoch 6/20\n",
            "28/28 [==============================] - 0s 1ms/step - loss: 0.4305 - accuracy: 0.8084\n",
            "Epoch 7/20\n",
            "28/28 [==============================] - 0s 1ms/step - loss: 0.4266 - accuracy: 0.8095\n",
            "Epoch 8/20\n",
            "28/28 [==============================] - 0s 1ms/step - loss: 0.4260 - accuracy: 0.8209\n",
            "Epoch 9/20\n",
            "28/28 [==============================] - 0s 1ms/step - loss: 0.4275 - accuracy: 0.8129\n",
            "Epoch 10/20\n",
            "28/28 [==============================] - 0s 1ms/step - loss: 0.4267 - accuracy: 0.8118\n",
            "Epoch 11/20\n",
            "28/28 [==============================] - 0s 1ms/step - loss: 0.4323 - accuracy: 0.8197\n",
            "Epoch 12/20\n",
            "28/28 [==============================] - 0s 2ms/step - loss: 0.4179 - accuracy: 0.8095\n",
            "Epoch 13/20\n",
            "28/28 [==============================] - 0s 1ms/step - loss: 0.4225 - accuracy: 0.8231\n",
            "Epoch 14/20\n",
            "28/28 [==============================] - 0s 1ms/step - loss: 0.4137 - accuracy: 0.8152\n",
            "Epoch 15/20\n",
            "28/28 [==============================] - 0s 1ms/step - loss: 0.4149 - accuracy: 0.8039\n",
            "Epoch 16/20\n",
            "28/28 [==============================] - 0s 2ms/step - loss: 0.4192 - accuracy: 0.8118\n",
            "Epoch 17/20\n",
            "28/28 [==============================] - 0s 1ms/step - loss: 0.4238 - accuracy: 0.8095\n",
            "Epoch 18/20\n",
            "28/28 [==============================] - 0s 1ms/step - loss: 0.4168 - accuracy: 0.8311\n",
            "Epoch 19/20\n",
            "28/28 [==============================] - 0s 2ms/step - loss: 0.4138 - accuracy: 0.8231\n",
            "Epoch 20/20\n",
            "28/28 [==============================] - 0s 1ms/step - loss: 0.4149 - accuracy: 0.8277\n"
          ],
          "name": "stdout"
        },
        {
          "output_type": "execute_result",
          "data": {
            "text/plain": [
              "<tensorflow.python.keras.callbacks.History at 0x7f26df339208>"
            ]
          },
          "metadata": {
            "tags": []
          },
          "execution_count": 59
        }
      ]
    },
    {
      "cell_type": "code",
      "metadata": {
        "id": "j4PI29B0wZht",
        "colab_type": "code",
        "outputId": "b0ae64e2-a9e5-4094-a109-a9e25c74a324",
        "colab": {
          "base_uri": "https://localhost:8080/",
          "height": 72
        }
      },
      "source": [
        "test_loss, test_acc = model.evaluate(X_test,  y_test, verbose=2)\n",
        "\n",
        "print('\\nTest accuracy:', test_acc)\n",
        "#it was 0.7 in kaggle"
      ],
      "execution_count": 60,
      "outputs": [
        {
          "output_type": "stream",
          "text": [
            "1/1 - 0s - loss: 0.2684 - accuracy: 0.8889\n",
            "\n",
            "Test accuracy: 0.8888888955116272\n"
          ],
          "name": "stdout"
        }
      ]
    },
    {
      "cell_type": "code",
      "metadata": {
        "id": "5V84T9Mv0RFJ",
        "colab_type": "code",
        "colab": {}
      },
      "source": [
        "model.save(filepath='drive/My Drive/Colab Notebooks/model.h5')"
      ],
      "execution_count": 0,
      "outputs": []
    },
    {
      "cell_type": "code",
      "metadata": {
        "id": "pJkOgQAj6Ibb",
        "colab_type": "code",
        "colab": {}
      },
      "source": [
        ""
      ],
      "execution_count": 0,
      "outputs": []
    }
  ]
}