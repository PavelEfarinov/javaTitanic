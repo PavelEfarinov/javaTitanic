{
  "nbformat": 4,
  "nbformat_minor": 0,
  "metadata": {
    "colab": {
      "name": "JB_1",
      "provenance": [],
      "collapsed_sections": [],
      "toc_visible": true
    },
    "kernelspec": {
      "name": "python3",
      "display_name": "Python 3"
    }
  },
  "cells": [
    {
      "cell_type": "code",
      "metadata": {
        "colab_type": "code",
        "id": "XjDXCsdiLV6f",
        "colab": {}
      },
      "source": [
        "# TensorFlow and tf.keras\n",
        "import tensorflow as tf\n",
        "from tensorflow import keras\n",
        "from sklearn.model_selection import train_test_split\n",
        "\n",
        "# Helper libraries\n",
        "import numpy as np\n",
        "import matplotlib.pyplot as plt\n",
        "import pandas as pd\n",
        "\n",
        "def median_age(data,Pclass):\n",
        "  med_age = round(data[\"Age\"][data[\"Pclass\"]==Pclass].median())\n",
        "  return med_age\n",
        "def modify_all_data(data)\n",
        "  all_changed_data =  data.copy(True)\n",
        "  all_changed_data.loc[(all_changed_data.Age.isnull()) & (all_changed_data.Fare == 0), \"Age\"] = 0\n",
        "  for i in [1,2,3]:\n",
        "      all_changed_data.loc[(all_changed_data.Age.isnull()) & (all_changed_data[\"Pclass\"] == i), \"Age\"] = median_age(all_changed_data,i)\n",
        "\n",
        "  all_changed_data['Survived'] = data['Survived']\n",
        "\n",
        "  all_changed_data.loc[(all_changed_data.Sex == \"male\", \"Sex\")]=1\n",
        "  all_changed_data.loc[(all_changed_data.Sex == \"female\", \"Sex\")]=-1\n",
        "\n",
        "  all_changed_data[\"FamilySize\"] = 1+all_changed_data[\"SibSp\"]+all_changed_data[\"Parch\"]\n",
        "  all_changed_data = all_changed_data.drop(['PassengerId', 'Name', 'Ticket','SibSp','Parch', 'Cabin', 'Embarked'], axis = 1)\n",
        "  return all_changed_data"
      ],
      "execution_count": 0,
      "outputs": []
    },
    {
      "cell_type": "code",
      "metadata": {
        "id": "h65xH2WPfrKq",
        "colab_type": "code",
        "colab": {}
      },
      "source": [
        "all_data = pd.read_csv('train.csv')"
      ],
      "execution_count": 0,
      "outputs": []
    },
    {
      "cell_type": "code",
      "metadata": {
        "id": "U6HWtkEYgqSM",
        "colab_type": "code",
        "colab": {}
      },
      "source": [
        "changed_data = modify_all_data(all_data)"
      ],
      "execution_count": 0,
      "outputs": []
    },
    {
      "cell_type": "code",
      "metadata": {
        "id": "WB7K8RHilvq7",
        "colab_type": "code",
        "outputId": "f874f5a4-0cae-4a57-815e-06d47f12af57",
        "colab": {
          "base_uri": "https://localhost:8080/",
          "height": 206
        }
      },
      "source": [
        "target = \"Survived\"\n",
        "features = [\"Pclass\", \"Sex\",\"FamilySize\",\"Fare\", \"Age\"]\n",
        "train, test = train_test_split(changed_data, test_size=0.01)\n",
        "X_train = train[features]\n",
        "y_train = train[target]\n",
        "X_test = test[features]\n",
        "y_test = test[target]\n",
        "X_train.head()"
      ],
      "execution_count": 0,
      "outputs": [
        {
          "output_type": "execute_result",
          "data": {
            "text/html": [
              "<div>\n",
              "<style scoped>\n",
              "    .dataframe tbody tr th:only-of-type {\n",
              "        vertical-align: middle;\n",
              "    }\n",
              "\n",
              "    .dataframe tbody tr th {\n",
              "        vertical-align: top;\n",
              "    }\n",
              "\n",
              "    .dataframe thead th {\n",
              "        text-align: right;\n",
              "    }\n",
              "</style>\n",
              "<table border=\"1\" class=\"dataframe\">\n",
              "  <thead>\n",
              "    <tr style=\"text-align: right;\">\n",
              "      <th></th>\n",
              "      <th>Pclass</th>\n",
              "      <th>Sex</th>\n",
              "      <th>FamilySize</th>\n",
              "      <th>Fare</th>\n",
              "      <th>Age</th>\n",
              "    </tr>\n",
              "  </thead>\n",
              "  <tbody>\n",
              "    <tr>\n",
              "      <th>466</th>\n",
              "      <td>2</td>\n",
              "      <td>1</td>\n",
              "      <td>1</td>\n",
              "      <td>0.0000</td>\n",
              "      <td>0.0</td>\n",
              "    </tr>\n",
              "    <tr>\n",
              "      <th>181</th>\n",
              "      <td>2</td>\n",
              "      <td>1</td>\n",
              "      <td>1</td>\n",
              "      <td>15.0500</td>\n",
              "      <td>29.0</td>\n",
              "    </tr>\n",
              "    <tr>\n",
              "      <th>38</th>\n",
              "      <td>3</td>\n",
              "      <td>-1</td>\n",
              "      <td>3</td>\n",
              "      <td>18.0000</td>\n",
              "      <td>18.0</td>\n",
              "    </tr>\n",
              "    <tr>\n",
              "      <th>97</th>\n",
              "      <td>1</td>\n",
              "      <td>1</td>\n",
              "      <td>2</td>\n",
              "      <td>63.3583</td>\n",
              "      <td>23.0</td>\n",
              "    </tr>\n",
              "    <tr>\n",
              "      <th>586</th>\n",
              "      <td>2</td>\n",
              "      <td>1</td>\n",
              "      <td>1</td>\n",
              "      <td>15.0000</td>\n",
              "      <td>47.0</td>\n",
              "    </tr>\n",
              "  </tbody>\n",
              "</table>\n",
              "</div>"
            ],
            "text/plain": [
              "     Pclass Sex  FamilySize     Fare   Age\n",
              "466       2   1           1   0.0000   0.0\n",
              "181       2   1           1  15.0500  29.0\n",
              "38        3  -1           3  18.0000  18.0\n",
              "97        1   1           2  63.3583  23.0\n",
              "586       2   1           1  15.0000  47.0"
            ]
          },
          "metadata": {
            "tags": []
          },
          "execution_count": 14
        }
      ]
    },
    {
      "cell_type": "code",
      "metadata": {
        "id": "v9webNoVq3HP",
        "colab_type": "code",
        "colab": {}
      },
      "source": [
        "# some simple model\n",
        "model = keras.models.Sequential()\n",
        "model.add(keras.layers.Dense(64, activation='relu', input_shape=(5,)))\n",
        "model.add(keras.layers.Dense(128, activation='relu'))\n",
        "model.add(keras.layers.Dense(64, activation='relu'))\n",
        "model.add(keras.layers.Dense(1, activation='sigmoid'))"
      ],
      "execution_count": 0,
      "outputs": []
    },
    {
      "cell_type": "code",
      "metadata": {
        "id": "Ihzfwo_3spSG",
        "colab_type": "code",
        "colab": {}
      },
      "source": [
        "model.compile(optimizer='rmsprop',\n",
        "              loss='binary_crossentropy',\n",
        "              metrics=['accuracy'])"
      ],
      "execution_count": 0,
      "outputs": []
    },
    {
      "cell_type": "code",
      "metadata": {
        "id": "5XdWzm77yuOo",
        "colab_type": "code",
        "colab": {}
      },
      "source": [
        "# making pandas Dataframes work properly with keras models\n",
        "X_train = np.asarray(X_train).astype(np.float32)\n",
        "y_train = np.asarray(y_train).astype(np.float32)\n",
        "X_test = np.asarray(X_test).astype(np.float32)\n",
        "y_test = np.asarray(y_test).astype(np.float32)"
      ],
      "execution_count": 0,
      "outputs": []
    },
    {
      "cell_type": "code",
      "metadata": {
        "id": "42RoabZqsvZo",
        "colab_type": "code",
        "outputId": "9903249e-2ef1-42ab-badb-caa450e874c7",
        "colab": {
          "base_uri": "https://localhost:8080/",
          "height": 762
        }
      },
      "source": [
        "model.fit(X_train,tf.stack(y_train), epochs=20)"
      ],
      "execution_count": 0,
      "outputs": [
        {
          "output_type": "stream",
          "text": [
            "Epoch 1/20\n",
            "28/28 [==============================] - 0s 1ms/step - loss: 0.7399 - accuracy: 0.6610\n",
            "Epoch 2/20\n",
            "28/28 [==============================] - 0s 1ms/step - loss: 0.6212 - accuracy: 0.6825\n",
            "Epoch 3/20\n",
            "28/28 [==============================] - 0s 2ms/step - loss: 0.6397 - accuracy: 0.6939\n",
            "Epoch 4/20\n",
            "28/28 [==============================] - 0s 1ms/step - loss: 0.5572 - accuracy: 0.7166\n",
            "Epoch 5/20\n",
            "28/28 [==============================] - 0s 1ms/step - loss: 0.5688 - accuracy: 0.7302\n",
            "Epoch 6/20\n",
            "28/28 [==============================] - 0s 1ms/step - loss: 0.5351 - accuracy: 0.7313\n",
            "Epoch 7/20\n",
            "28/28 [==============================] - 0s 1ms/step - loss: 0.5501 - accuracy: 0.7574\n",
            "Epoch 8/20\n",
            "28/28 [==============================] - 0s 1ms/step - loss: 0.5153 - accuracy: 0.7540\n",
            "Epoch 9/20\n",
            "28/28 [==============================] - 0s 1ms/step - loss: 0.5256 - accuracy: 0.7687\n",
            "Epoch 10/20\n",
            "28/28 [==============================] - 0s 1ms/step - loss: 0.5178 - accuracy: 0.7676\n",
            "Epoch 11/20\n",
            "28/28 [==============================] - 0s 1ms/step - loss: 0.5110 - accuracy: 0.7766\n",
            "Epoch 12/20\n",
            "28/28 [==============================] - 0s 1ms/step - loss: 0.4878 - accuracy: 0.7812\n",
            "Epoch 13/20\n",
            "28/28 [==============================] - 0s 2ms/step - loss: 0.4963 - accuracy: 0.7925\n",
            "Epoch 14/20\n",
            "28/28 [==============================] - 0s 1ms/step - loss: 0.5082 - accuracy: 0.7778\n",
            "Epoch 15/20\n",
            "28/28 [==============================] - 0s 1ms/step - loss: 0.4915 - accuracy: 0.7812\n",
            "Epoch 16/20\n",
            "28/28 [==============================] - 0s 1ms/step - loss: 0.4860 - accuracy: 0.7789\n",
            "Epoch 17/20\n",
            "28/28 [==============================] - 0s 1ms/step - loss: 0.4947 - accuracy: 0.7766\n",
            "Epoch 18/20\n",
            "28/28 [==============================] - 0s 1ms/step - loss: 0.4801 - accuracy: 0.7857\n",
            "Epoch 19/20\n",
            "28/28 [==============================] - 0s 1ms/step - loss: 0.4636 - accuracy: 0.7812\n",
            "Epoch 20/20\n",
            "28/28 [==============================] - 0s 1ms/step - loss: 0.4720 - accuracy: 0.7800\n"
          ],
          "name": "stdout"
        },
        {
          "output_type": "execute_result",
          "data": {
            "text/plain": [
              "<tensorflow.python.keras.callbacks.History at 0x7ff8f2bfc1d0>"
            ]
          },
          "metadata": {
            "tags": []
          },
          "execution_count": 117
        }
      ]
    },
    {
      "cell_type": "code",
      "metadata": {
        "id": "j4PI29B0wZht",
        "colab_type": "code",
        "outputId": "41b114cd-ee41-48fb-9d88-1be438f84130",
        "colab": {
          "base_uri": "https://localhost:8080/",
          "height": 72
        }
      },
      "source": [
        "test_loss, test_acc = model.evaluate(X_test,  y_test, verbose=2)\n",
        "\n",
        "print('\\nTest accuracy:', test_acc)\n",
        "#it was 0.7 in kaggle"
      ],
      "execution_count": 0,
      "outputs": [
        {
          "output_type": "stream",
          "text": [
            "1/1 - 0s - loss: 0.4998 - accuracy: 0.8889\n",
            "\n",
            "Test accuracy: 0.8888888955116272\n"
          ],
          "name": "stdout"
        }
      ]
    },
    {
      "cell_type": "code",
      "metadata": {
        "id": "5V84T9Mv0RFJ",
        "colab_type": "code",
        "colab": {}
      },
      "source": [
        "model.save(filepath='drive/My Drive/Colab Notebooks/model.h5')"
      ],
      "execution_count": 0,
      "outputs": []
    }
  ]
}