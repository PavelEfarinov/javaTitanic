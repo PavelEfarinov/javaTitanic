{
  "nbformat": 4,
  "nbformat_minor": 0,
  "metadata": {
    "colab": {
      "name": "JB_1",
      "provenance": [],
      "collapsed_sections": [],
      "toc_visible": true
    },
    "kernelspec": {
      "name": "python3",
      "display_name": "Python 3"
    }
  },
  "cells": [
    {
      "cell_type": "code",
      "metadata": {
        "id": "PIJIlIQ2fkYi",
        "colab_type": "code",
        "colab": {}
      },
      "source": [
        "# TensorFlow and tf.keras\n",
        "import tensorflow as tf\n",
        "from tensorflow import keras\n",
        "from sklearn.model_selection import train_test_split\n",
        "\n",
        "# Helper libraries\n",
        "import numpy as np\n",
        "import matplotlib.pyplot as plt\n",
        "import pandas as pd\n",
        "def median_age(data,Pclass):\n",
        "  med_age = round(data[\"Age\"][data[\"Pclass\"]==Pclass].median())\n",
        "  return med_age"
      ],
      "execution_count": 0,
      "outputs": []
    },
    {
      "cell_type": "code",
      "metadata": {
        "id": "h65xH2WPfrKq",
        "colab_type": "code",
        "colab": {}
      },
      "source": [
        "all_data = pd.read_csv('train.csv')"
      ],
      "execution_count": 0,
      "outputs": []
    },
    {
      "cell_type": "code",
      "metadata": {
        "id": "U6HWtkEYgqSM",
        "colab_type": "code",
        "colab": {}
      },
      "source": [
        "all_changed_data =  all_data.copy(True)\n",
        "\n",
        "all_changed_data.loc[(all_changed_data.Age.isnull()) & (all_changed_data.Fare == 0), \"Age\"] = 0\n",
        "for i in [1,2,3]:\n",
        "    all_changed_data.loc[(all_changed_data.Age.isnull()) & (all_changed_data[\"Pclass\"] == i), \"Age\"] = median_age(all_changed_data,i)\n",
        "\n",
        "all_changed_data['Survived'] = all_data['Survived']\n",
        "\n",
        "all_changed_data.loc[(all_changed_data.Sex == \"male\", \"Sex\")]=1\n",
        "all_changed_data.loc[(all_changed_data.Sex == \"female\", \"Sex\")]=-1\n",
        "\n",
        "all_changed_data[\"FamilySize\"] = 1+all_changed_data[\"SibSp\"]+all_changed_data[\"Parch\"]\n",
        "all_changed_data = all_changed_data.drop(['PassengerId', 'Name', 'Ticket','SibSp','Parch', 'Cabin', 'Embarked'], axis = 1)"
      ],
      "execution_count": 0,
      "outputs": []
    },
    {
      "cell_type": "code",
      "metadata": {
        "id": "WB7K8RHilvq7",
        "colab_type": "code",
        "outputId": "f874f5a4-0cae-4a57-815e-06d47f12af57",
        "colab": {
          "base_uri": "https://localhost:8080/",
          "height": 206
        }
      },
      "source": [
        "target = \"Survived\"\n",
        "features = [\"Pclass\", \"Sex\",\"FamilySize\",\"Fare\", \"Age\"]\n",
        "train, test = train_test_split(all_changed_data, test_size=0.01)\n",
        "X_train = train[features]\n",
        "y_train = train[target]\n",
        "X_test = test[features]\n",
        "y_test = test[target]\n",
        "X_train.head()"
      ],
      "execution_count": 14,
      "outputs": [
        {
          "output_type": "execute_result",
          "data": {
            "text/html": [
              "<div>\n",
              "<style scoped>\n",
              "    .dataframe tbody tr th:only-of-type {\n",
              "        vertical-align: middle;\n",
              "    }\n",
              "\n",
              "    .dataframe tbody tr th {\n",
              "        vertical-align: top;\n",
              "    }\n",
              "\n",
              "    .dataframe thead th {\n",
              "        text-align: right;\n",
              "    }\n",
              "</style>\n",
              "<table border=\"1\" class=\"dataframe\">\n",
              "  <thead>\n",
              "    <tr style=\"text-align: right;\">\n",
              "      <th></th>\n",
              "      <th>Pclass</th>\n",
              "      <th>Sex</th>\n",
              "      <th>FamilySize</th>\n",
              "      <th>Fare</th>\n",
              "      <th>Age</th>\n",
              "    </tr>\n",
              "  </thead>\n",
              "  <tbody>\n",
              "    <tr>\n",
              "      <th>466</th>\n",
              "      <td>2</td>\n",
              "      <td>1</td>\n",
              "      <td>1</td>\n",
              "      <td>0.0000</td>\n",
              "      <td>0.0</td>\n",
              "    </tr>\n",
              "    <tr>\n",
              "      <th>181</th>\n",
              "      <td>2</td>\n",
              "      <td>1</td>\n",
              "      <td>1</td>\n",
              "      <td>15.0500</td>\n",
              "      <td>29.0</td>\n",
              "    </tr>\n",
              "    <tr>\n",
              "      <th>38</th>\n",
              "      <td>3</td>\n",
              "      <td>-1</td>\n",
              "      <td>3</td>\n",
              "      <td>18.0000</td>\n",
              "      <td>18.0</td>\n",
              "    </tr>\n",
              "    <tr>\n",
              "      <th>97</th>\n",
              "      <td>1</td>\n",
              "      <td>1</td>\n",
              "      <td>2</td>\n",
              "      <td>63.3583</td>\n",
              "      <td>23.0</td>\n",
              "    </tr>\n",
              "    <tr>\n",
              "      <th>586</th>\n",
              "      <td>2</td>\n",
              "      <td>1</td>\n",
              "      <td>1</td>\n",
              "      <td>15.0000</td>\n",
              "      <td>47.0</td>\n",
              "    </tr>\n",
              "  </tbody>\n",
              "</table>\n",
              "</div>"
            ],
            "text/plain": [
              "     Pclass Sex  FamilySize     Fare   Age\n",
              "466       2   1           1   0.0000   0.0\n",
              "181       2   1           1  15.0500  29.0\n",
              "38        3  -1           3  18.0000  18.0\n",
              "97        1   1           2  63.3583  23.0\n",
              "586       2   1           1  15.0000  47.0"
            ]
          },
          "metadata": {
            "tags": []
          },
          "execution_count": 14
        }
      ]
    },
    {
      "cell_type": "code",
      "metadata": {
        "id": "v9webNoVq3HP",
        "colab_type": "code",
        "colab": {}
      },
      "source": [
        "x = keras.Input(shape=(5,), name='input')\n",
        "a = keras.layers.Dense(128, activation='relu')(x)\n",
        "b = keras.layers.Dense(128, activation='relu')(a)\n",
        "y = keras.layers.Dense(2)(b)\n",
        "model = keras.Model(x, y)"
      ],
      "execution_count": 0,
      "outputs": []
    },
    {
      "cell_type": "code",
      "metadata": {
        "id": "Ihzfwo_3spSG",
        "colab_type": "code",
        "colab": {}
      },
      "source": [
        "model.compile(optimizer='adam',\n",
        "              loss=tf.keras.losses.SparseCategoricalCrossentropy(from_logits=True),\n",
        "              metrics=['accuracy'])"
      ],
      "execution_count": 0,
      "outputs": []
    },
    {
      "cell_type": "code",
      "metadata": {
        "id": "5XdWzm77yuOo",
        "colab_type": "code",
        "colab": {}
      },
      "source": [
        "X_train = np.asarray(X_train).astype(np.float32)\n",
        "y_train = np.asarray(y_train).astype(np.float32)\n",
        "X_test = np.asarray(X_test).astype(np.float32)\n",
        "y_test = np.asarray(y_test).astype(np.float32)"
      ],
      "execution_count": 0,
      "outputs": []
    },
    {
      "cell_type": "code",
      "metadata": {
        "id": "42RoabZqsvZo",
        "colab_type": "code",
        "outputId": "e1265984-3077-4183-a7f2-520c8a7ad150",
        "colab": {
          "base_uri": "https://localhost:8080/",
          "height": 762
        }
      },
      "source": [
        "model.fit(X_train,tf.stack(y_train), epochs=20)"
      ],
      "execution_count": 63,
      "outputs": [
        {
          "output_type": "stream",
          "text": [
            "Epoch 1/20\n",
            "28/28 [==============================] - 0s 1ms/step - loss: 1.3117 - accuracy: 0.6054\n",
            "Epoch 2/20\n",
            "28/28 [==============================] - 0s 1ms/step - loss: 0.6204 - accuracy: 0.6803\n",
            "Epoch 3/20\n",
            "28/28 [==============================] - 0s 1ms/step - loss: 0.5870 - accuracy: 0.7029\n",
            "Epoch 4/20\n",
            "28/28 [==============================] - 0s 1ms/step - loss: 0.6125 - accuracy: 0.7075\n",
            "Epoch 5/20\n",
            "28/28 [==============================] - 0s 1ms/step - loss: 0.5673 - accuracy: 0.7302\n",
            "Epoch 6/20\n",
            "28/28 [==============================] - 0s 1ms/step - loss: 0.5373 - accuracy: 0.7449\n",
            "Epoch 7/20\n",
            "28/28 [==============================] - 0s 1ms/step - loss: 0.5065 - accuracy: 0.7721\n",
            "Epoch 8/20\n",
            "28/28 [==============================] - 0s 1ms/step - loss: 0.5094 - accuracy: 0.7664\n",
            "Epoch 9/20\n",
            "28/28 [==============================] - 0s 1ms/step - loss: 0.4979 - accuracy: 0.7698\n",
            "Epoch 10/20\n",
            "28/28 [==============================] - 0s 1ms/step - loss: 0.4749 - accuracy: 0.7914\n",
            "Epoch 11/20\n",
            "28/28 [==============================] - 0s 1ms/step - loss: 0.4816 - accuracy: 0.7710\n",
            "Epoch 12/20\n",
            "28/28 [==============================] - 0s 1ms/step - loss: 0.4884 - accuracy: 0.7959\n",
            "Epoch 13/20\n",
            "28/28 [==============================] - 0s 1ms/step - loss: 0.4551 - accuracy: 0.7891\n",
            "Epoch 14/20\n",
            "28/28 [==============================] - 0s 1ms/step - loss: 0.4647 - accuracy: 0.7937\n",
            "Epoch 15/20\n",
            "28/28 [==============================] - 0s 1ms/step - loss: 0.4812 - accuracy: 0.7755\n",
            "Epoch 16/20\n",
            "28/28 [==============================] - 0s 1ms/step - loss: 0.4598 - accuracy: 0.7937\n",
            "Epoch 17/20\n",
            "28/28 [==============================] - 0s 1ms/step - loss: 0.4841 - accuracy: 0.7755\n",
            "Epoch 18/20\n",
            "28/28 [==============================] - 0s 1ms/step - loss: 0.4623 - accuracy: 0.7902\n",
            "Epoch 19/20\n",
            "28/28 [==============================] - 0s 1ms/step - loss: 0.5016 - accuracy: 0.7846\n",
            "Epoch 20/20\n",
            "28/28 [==============================] - 0s 1ms/step - loss: 0.4544 - accuracy: 0.7982\n"
          ],
          "name": "stdout"
        },
        {
          "output_type": "execute_result",
          "data": {
            "text/plain": [
              "<tensorflow.python.keras.callbacks.History at 0x7ff8fa5a0cf8>"
            ]
          },
          "metadata": {
            "tags": []
          },
          "execution_count": 63
        }
      ]
    },
    {
      "cell_type": "code",
      "metadata": {
        "id": "j4PI29B0wZht",
        "colab_type": "code",
        "outputId": "2307ffc2-7941-46bd-ce93-237111de9a60",
        "colab": {
          "base_uri": "https://localhost:8080/",
          "height": 72
        }
      },
      "source": [
        "test_loss, test_acc = model.evaluate(X_test,  y_test, verbose=2)\n",
        "\n",
        "print('\\nTest accuracy:', test_acc)\n"
      ],
      "execution_count": 64,
      "outputs": [
        {
          "output_type": "stream",
          "text": [
            "1/1 - 0s - loss: 0.3971 - accuracy: 0.8889\n",
            "\n",
            "Test accuracy: 0.8888888955116272\n"
          ],
          "name": "stdout"
        }
      ]
    },
    {
      "cell_type": "code",
      "metadata": {
        "id": "5V84T9Mv0RFJ",
        "colab_type": "code",
        "outputId": "544adbb0-8393-41bc-cfff-16636f6e8df1",
        "colab": {
          "base_uri": "https://localhost:8080/",
          "height": 35
        }
      },
      "source": [
        "model.save(filepath='drive/My Drive/Colab Notebooks/model.h5', include_optimizer=False, save_format='h5')"
      ],
      "execution_count": 65,
      "outputs": [
        {
          "output_type": "stream",
          "text": [
            "INFO:tensorflow:Assets written to: drive/My Drive/Colab Notebooks/model/assets\n"
          ],
          "name": "stdout"
        }
      ]
    },
    {
      "cell_type": "code",
      "metadata": {
        "id": "GUc0Reg9-jmE",
        "colab_type": "code",
        "colab": {}
      },
      "source": [
        ""
      ],
      "execution_count": 0,
      "outputs": []
    },
    {
      "cell_type": "code",
      "metadata": {
        "id": "XVXUxbk4gvlH",
        "colab_type": "code",
        "colab": {}
      },
      "source": [
        ""
      ],
      "execution_count": 0,
      "outputs": []
    }
  ]
}